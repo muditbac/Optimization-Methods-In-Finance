{
 "cells": [
  {
   "cell_type": "markdown",
   "metadata": {},
   "source": [
    "## Fuzzy Portfolio Optimization\n",
    "#### Implementation of \"[A multi-period fuzzy portfolio optimization model with minimum transaction lots](http://www.sciencedirect.com/science/article/pii/S037722171400900X)\" on Indian Stock Market\n",
    "\n",
    "Dependencies\n",
    "- deap \n",
    "- pandas\n",
    "- numpy"
   ]
  },
  {
   "cell_type": "code",
   "execution_count": 1,
   "metadata": {
    "collapsed": true
   },
   "outputs": [],
   "source": [
    "import numpy as np\n",
    "import matplotlib\n",
    "import matplotlib.pyplot as plt\n",
    "import random\n",
    "import operator\n",
    "\n",
    "from finance import *\n",
    "\n",
    "matplotlib.style.use('ggplot')"
   ]
  },
  {
   "cell_type": "code",
   "execution_count": 2,
   "metadata": {
    "collapsed": true
   },
   "outputs": [],
   "source": [
    "stock_indices = [\n",
    "    'SBIN.NS',\n",
    "    'HDFCBANK.NS',\n",
    "    'ASIANPAINT.NS',\n",
    "    'ACC.NS',\n",
    "    'HCLTECH.NS',\n",
    "    'YESBANK.NS',\n",
    "    'KOTAKBANK.NS',\n",
    "    'WIPRO.BO',\n",
    "    'MARUTI.BO',\n",
    "    'ITC.BO',\n",
    "    'BPCL.BO',\n",
    "    'BHARTIARTL.BO',\n",
    "    'BHARATFIN.BO',\n",
    "    'INFY.BO',\n",
    "    'TCS.NS',\n",
    "    'DABUR.NS',\n",
    "    'EIHOTEL.NS',\n",
    "    'BOSCHLTD.NS'\n",
    "]\n",
    "nstocks = len(stock_indices)\n",
    "historical_data = get_stocks_data(stock_indices,filename=\"all_new\", cache=True, start_date=datetime.datetime(2015,1,1), interval='w')\n",
    "closing_price = historical_data['Close']\n",
    "rate_of_return = get_rate_of_return(closing_price).interpolate()"
   ]
  },
  {
   "cell_type": "code",
   "execution_count": 3,
   "metadata": {
    "collapsed": true
   },
   "outputs": [],
   "source": [
    "t = 3\n",
    "rf = 0.08*np.ones(t) # Yearly rate of return of risk free asset\n",
    "transaction_cost_rate = 0.005 # Motilal Oswal Equity Delivery Charges\n",
    "lot = lot_size = 100\n",
    "init_wealth = 1000000\n",
    "init_investment = np.zeros(nstocks)\n",
    "max_lots = 50"
   ]
  },
  {
   "cell_type": "code",
   "execution_count": 4,
   "metadata": {
    "collapsed": true
   },
   "outputs": [],
   "source": [
    "max_risk = 0.10 # 10% weekly risk\n",
    "min_return = 0.10 # 10% yearly return"
   ]
  },
  {
   "cell_type": "code",
   "execution_count": 5,
   "metadata": {
    "collapsed": true
   },
   "outputs": [],
   "source": [
    "et = 1 # Allowed weights entropy\n",
    "k = 5"
   ]
  },
  {
   "cell_type": "code",
   "execution_count": 6,
   "metadata": {
    "collapsed": true
   },
   "outputs": [],
   "source": [
    "ror1 = rate_of_return.loc['2015-12-31':'2015-1-1']\n",
    "ror2 = rate_of_return.loc['2016-12-31':'2016-1-1']\n",
    "ror3 = rate_of_return.loc['2017-12-31':'2017-1-1']\n",
    "p1 = closing_price.loc['2015-12-31':'2015-1-1'].iloc[0]\n",
    "p2 = closing_price.loc['2016-12-31':'2016-1-1'].iloc[0]\n",
    "p3 = closing_price.loc['2017-12-31':'2017-1-1'].iloc[0]\n",
    "prices = pd.DataFrame([p1, p2, p3])\n",
    "ror = [ror1, ror2, ror3]"
   ]
  },
  {
   "cell_type": "code",
   "execution_count": 7,
   "metadata": {
    "collapsed": true
   },
   "outputs": [],
   "source": [
    "def get_stats(rate_of_return):\n",
    "    start = 0.01\n",
    "    core_start_quan = 0.4\n",
    "    core_end_quan = 0.7\n",
    "    end = 0.95\n",
    "\n",
    "    stats = rate_of_return.quantile([0, start, core_start_quan, core_end_quan, end,1])\n",
    "    stats.loc['lSpread'] = stats.loc[core_start_quan] - stats.loc[start]\n",
    "    stats.loc['rSpread'] = stats.loc[end] - stats.loc[core_end_quan]\n",
    "    stats.loc['pmean'] = (stats.loc[core_start_quan]+stats.loc[core_end_quan])/2 + (stats.loc['rSpread']-stats.loc['lSpread'])/6\n",
    "    stats.loc['pstd_e1'] = (-stats.loc[core_start_quan]+stats.loc[core_end_quan])/2 + (\n",
    "        stats.loc['rSpread']+stats.loc['lSpread'])/6\n",
    "    stats.loc['mean'] = rate_of_return.mean()\n",
    "    stats.loc['std'] = rate_of_return.std()\n",
    "    return stats\n",
    "\n",
    "# Computing statstistics each time period\n",
    "stats = [get_stats(r) for r in ror]\n",
    "lot_prices = prices.values*lot_size\n",
    "\n",
    "# Backup the data\n",
    "_ = [s.to_excel('stats_%d.xls'%i) for i, s in enumerate(stats)]\n",
    "prices.to_excel('stock_prices.xls')"
   ]
  },
  {
   "cell_type": "markdown",
   "metadata": {},
   "source": [
    "$$\\begin{alignat}{3}\n",
    "&W_{T+1} & &=&& \\sum_{i=1}^{n}{x_{t,i}p_{t,i}(1+r_{t,i})} + (W_T-\\sum_{i=1}^{n}{x_{t,i}p_{t,i}}-C_t)(1+r_f(t)) \\\\\n",
    "&where\\;  & &W_T&& \\text{ is Terminal wealth at end of time T} \\\\\n",
    "& & &C_T&& \\text{ is the total transaction cost at time T} \n",
    "\\end{alignat}\n",
    "$$"
   ]
  },
  {
   "cell_type": "code",
   "execution_count": 8,
   "metadata": {
    "collapsed": true
   },
   "outputs": [],
   "source": [
    "def total_cost_func(previous_investment, current_investment, current_price):\n",
    "    transaction_amount = np.abs(previous_investment-current_investment)*current_price\n",
    "    transaction_cost = transaction_amount.sum()*transaction_cost_rate\n",
    "    total_cost = (current_investment*current_price).sum()+transaction_cost\n",
    "    return total_cost, transaction_cost\n",
    "\n",
    "def normalize_values(w):\n",
    "    # Non negative constraint\n",
    "    w[w<=0.] = .0\n",
    "    \n",
    "    # Integer Constraint\n",
    "    w_frac, w_int = np.modf(w)\n",
    "    w_factor = np.sign(w_frac)*np.random.randint(0, 2, w.shape)\n",
    "    w[:] = w_int+w_factor\n",
    "    \n",
    "    # Cardinality constraint\n",
    "    inv_ratios = (w*lot_prices)\n",
    "    inv_ratios = inv_ratios/inv_ratios.sum(1).reshape(t, 1)\n",
    "    for i, wi in enumerate(w):\n",
    "        if np.sign(wi).sum()>k:\n",
    "            w[i, np.argpartition(inv_ratios[i], nstocks-k)[:(nstocks-k)]]=0\n",
    "    return w"
   ]
  },
  {
   "cell_type": "code",
   "execution_count": 9,
   "metadata": {},
   "outputs": [
    {
     "data": {
      "text/plain": [
       "array([[ 0,  0,  0,  0, 42,  0,  0,  0, 48,  0,  0,  0, 46,  5,  0, 29,  0,\n",
       "         0],\n",
       "       [ 0,  0,  0,  0, 47,  0,  0,  0, 36,  0,  0,  0, 34,  6,  0, 22,  0,\n",
       "         0],\n",
       "       [ 0, 30, 46,  0, 29,  0,  0,  0,  0, 37,  0,  0,  0, 25,  0,  0,  0,\n",
       "         0]])"
      ]
     },
     "execution_count": 9,
     "metadata": {},
     "output_type": "execute_result"
    }
   ],
   "source": [
    "w = np.random.randint(0, max_lots, [t, nstocks])\n",
    "normalize_values(w)\n",
    "\n",
    "# w = w / w.sum(1).reshape(t, 1) # Random initialization\n",
    "# display(w)"
   ]
  },
  {
   "cell_type": "code",
   "execution_count": 10,
   "metadata": {
    "collapsed": true,
    "scrolled": true
   },
   "outputs": [],
   "source": [
    "lot_prices = prices.values*lot_size\n",
    "def evaluate(w):\n",
    "\n",
    "    previous_investment = init_investment\n",
    "    wealth = float(init_wealth)\n",
    "\n",
    "    investment_ratio = np.zeros([t, nstocks+1])\n",
    "    risk_free_investment = np.zeros(t)\n",
    "    variance_risk = np.zeros(t)\n",
    "    expected_terminal_wealth = np.zeros(t)\n",
    "    actual_wealth = np.zeros(t)\n",
    "    transaction_costs = np.zeros(t)\n",
    "    \n",
    "    total_var_risk = 0\n",
    "\n",
    "    for i, (current_investment, current_price) in enumerate(zip(w, lot_prices)):\n",
    "        total_cost, transaction_cost = total_cost_func(previous_investment, current_investment, current_price)\n",
    "    \n",
    "        # Budget Constraint\n",
    "        while (wealth<total_cost):\n",
    "#             print \"Normalizing budget constraint\"\n",
    "            w[i] = current_investment = np.floor(current_investment/(total_cost/wealth)) #TODO Rectify this\n",
    "            total_cost, transaction_cost = total_cost_func(previous_investment, current_investment, current_price)\n",
    "\n",
    "        risk_free_investment[i] = wealth-total_cost\n",
    "        investment_ratio[i][:nstocks] = current_price*current_investment/(wealth-transaction_cost)\n",
    "        investment_ratio[i][nstocks] = risk_free_investment[i]/(wealth-transaction_cost)\n",
    "    \n",
    "        transaction_costs[i] = transaction_cost\n",
    "        variance_risk[i] = total_var_risk = total_var_risk + ((investment_ratio[i][:nstocks]*\n",
    "                                                              stats[i].loc['pstd_e1']).sum())**2 + ((investment_ratio[i]\n",
    "                                                              [:nstocks]*stats[i].loc['lSpread']).sum()**2)/18.\n",
    "        expected_terminal_wealth[i] = wealth = (current_price*current_investment*(1+52*stats[i].loc['pmean'].values)\n",
    "                                               ).sum()+risk_free_investment[i]*(1+rf[i])\n",
    "        actual_wealth[i] = awealth = (lot_prices[i+1]*current_investment\n",
    "                                     ).sum()+risk_free_investment[i]*(1+rf[i]) if i!=t-1 else 0\n",
    "        previous_investment = current_investment\n",
    "\n",
    "\n",
    "    portfolio_mean_ror = (52*investment_ratio[:,:nstocks]*np.array([s.loc['pmean'].values for s in stats])).sum(1)+investment_ratio[:, nstocks]*rf\n",
    "    actual_wealth = actual_wealth[:t-1\n",
    "                                 ]\n",
    "    budget_constraint = ((w*lot_prices).sum(1)+transaction_costs)-np.concatenate([[init_wealth], expected_terminal_wealth[:t-1]])\n",
    "    min_mean_constraint = min_return-portfolio_mean_ror\n",
    "    max_risk_constraint = np.sqrt(variance_risk)-max_risk\n",
    "    entropy_constraint = et+(investment_ratio*np.log(investment_ratio+1e-40)).sum(1)\n",
    "    cardinality_constraint = np.sign(w).sum(1)-k\n",
    "    violent_values = np.concatenate([budget_constraint, min_mean_constraint, max_risk_constraint, \n",
    "                                     entropy_constraint, cardinality_constraint])\n",
    "    \n",
    "    \n",
    "    return expected_terminal_wealth, transaction_costs, variance_risk, risk_free_investment, violent_values, actual_wealth, investment_ratio\n",
    "\n",
    "expected_terminal_wealth, transaction_costs, variance_risk, risk_free_investment, violent_values, actual_wealth, investment_ratio = evaluate(w)"
   ]
  },
  {
   "cell_type": "code",
   "execution_count": 11,
   "metadata": {},
   "outputs": [
    {
     "data": {
      "text/plain": [
       "array([ 0.  ,  0.  ,  0.  ,  0.02,  0.02,  0.02,  0.  ,  0.  ,  0.  ,\n",
       "        1.  ,  1.  ,  1.  ,  0.  ,  0.  ,  0.  ])"
      ]
     },
     "execution_count": 11,
     "metadata": {},
     "output_type": "execute_result"
    }
   ],
   "source": [
    "np.maximum(violent_values, 0)"
   ]
  },
  {
   "cell_type": "code",
   "execution_count": 12,
   "metadata": {
    "collapsed": true
   },
   "outputs": [],
   "source": [
    "def normalize_values_decorator(func):\n",
    "    def wrapper(*args, **kargs):\n",
    "        individual = func(*args, **kargs)\n",
    "        for i in individual:\n",
    "            normalize_values(i)\n",
    "        return individual\n",
    "    return wrapper\n",
    "\n",
    "def generate_individual():\n",
    "    w = np.random.randint(0, max_lots, [t, nstocks]).astype('float')\n",
    "    normalize_values(w)\n",
    "    return w"
   ]
  },
  {
   "cell_type": "markdown",
   "metadata": {},
   "source": [
    "### Genetic Algorithm for non-linear mixed interger programming\n",
    "- deap\n",
    "- random"
   ]
  },
  {
   "cell_type": "code",
   "execution_count": 13,
   "metadata": {
    "collapsed": true
   },
   "outputs": [],
   "source": [
    "import random\n",
    "\n",
    "from deap import base\n",
    "from deap import creator\n",
    "from deap import tools\n",
    "from deap import algorithms\n"
   ]
  },
  {
   "cell_type": "code",
   "execution_count": 14,
   "metadata": {
    "collapsed": true
   },
   "outputs": [],
   "source": [
    "def cxLaplace(i1, i2, offset, scale):\n",
    "    q = offset+scale*np.log(np.random.rand(t,nstocks))*np.sign(2*np.random.rand(t,nstocks)-1.)\n",
    "    k = q*np.abs(i1-i2)\n",
    "    i1[:] = i1 + k\n",
    "    i2[:] = i2 + k\n",
    "    return i1, i2\n",
    "\n",
    "# TODO Restrict few bits\n",
    "def muPower(individual, xl, xu, pl, pu, indpb=0.1):\n",
    "    sl = (np.random.rand(*(individual.shape))<indpb)*np.random.rand(*(individual.shape))**(1./pl)\n",
    "    su = (np.random.rand(*(individual.shape))<indpb)*np.random.rand(*(individual.shape))**(1./pu)\n",
    "    t = (individual-xl)/(xu-xl+1e-20)\n",
    "    r = np.random.rand(*(individual.shape))\n",
    "    individual[:] = np.where(r<t, individual-sl*(individual-xl), individual+su*(xu-individual))\n",
    "    return individual,\n",
    "# def muPower(individual, xl, xu, pl, pu, indpb=0.1):\n",
    "#     for num in np.nditer(individual, op_flags=['readwrite']):\n",
    "#         if np.random.rand()<=indpb:\n",
    "#             t = (num-xl)/(xu-xl+1e-20)\n",
    "#             r = np.random.rand()\n",
    "#             s = -(num-xl)*np.random.rand()**(1./pl) if r<t else (xu-num)*np.random.rand()**(1./pu)\n",
    "# #             num[...] = np.where(r<t, num-s*(num-xl), num+s*(xu-num))\n",
    "#             num[...] = num+s\n",
    "#     return individual,"
   ]
  },
  {
   "cell_type": "code",
   "execution_count": 15,
   "metadata": {
    "collapsed": true
   },
   "outputs": [],
   "source": [
    "\n",
    "def evaluate_terminal_wealth(ind):\n",
    "    res = evaluate(ind)\n",
    "    return res[0][t-1], np.maximum(res[4],0).sum()\n",
    "\n",
    "def evaluate_total_risk(ind):\n",
    "    res = evaluate(ind)\n",
    "    return res[2][t-1], np.maximum(res[4],0).sum()\n",
    "\n",
    "def eval(w, obj_func):\n",
    "    global f_worst\n",
    "    main_objective, violent_values = obj_func(w)\n",
    "    if np.abs(violent_values.sum())<1e-10:\n",
    "        f_worst = worst_check_operator(f_worst, main_objective) if f_worst is not init_worst else main_objective\n",
    "        return main_objective,\n",
    "    else:\n",
    "        return mixing_operator(f_worst, violent_values.sum()),\n"
   ]
  },
  {
   "cell_type": "code",
   "execution_count": 16,
   "metadata": {
    "collapsed": true
   },
   "outputs": [],
   "source": [
    "def create_toolbox(eval_fn, is_min=True, offset=0., scale=0.25, pl=0.35, pu=0.25, indpb=0.10, **kwargs):\n",
    "    \n",
    "    if not isinstance(is_min, tuple):\n",
    "        is_min = (-1.0, ) if is_min else (1.0, )\n",
    "    creator.create(\"Fitness\", base.Fitness, weights=is_min)\n",
    "    creator.create(\"Individual\", np.ndarray, fitness=creator.Fitness)\n",
    "\n",
    "    toolbox = base.Toolbox()\n",
    "    # toolbox.register(\"init_random\", np.random.randint, 0, max_lots, [t, nstocks])\n",
    "    # toolbox.register(\"init_individual\", tools.initIterate, normalize_values, toolbox.init_random)\n",
    "    toolbox.register(\"individual\", tools.initIterate, creator.Individual, generate_individual)\n",
    "    toolbox.register(\"population\", tools.initRepeat, list, toolbox.individual)\n",
    "\n",
    "    toolbox.register(\"mate\", cxLaplace, offset=offset, scale=scale)\n",
    "    toolbox.decorate(\"mate\", normalize_values_decorator)\n",
    "\n",
    "    toolbox.register(\"mutate\", muPower, xl=0, xu=max_lots, pl=pl, pu=pu, indpb=indpb)\n",
    "    toolbox.decorate(\"mutate\", normalize_values_decorator)\n",
    "\n",
    "    toolbox.register(\"select\", tools.selTournament, tournsize=3)\n",
    "    # toolbox.register(\"evaluate\", eval, obj_func=evaluate_total_risk)\n",
    "    toolbox.register('eval_fn', eval_fn, **kwargs)\n",
    "    toolbox.register(\"evaluate\", eval, obj_func=toolbox.eval_fn)\n",
    "    return toolbox\n"
   ]
  },
  {
   "cell_type": "code",
   "execution_count": 17,
   "metadata": {
    "collapsed": true,
    "scrolled": true
   },
   "outputs": [],
   "source": [
    "# f_worst = init_worst\n",
    "# goptimum = init_worst\n",
    "\n",
    "def global_optimum(indvs):\n",
    "    global goptimum, optimum_check_operator\n",
    "    goptimum = optimum_check_operator(goptimum, optimum_np_operator(indvs))\n",
    "    return goptimum\n",
    "\n",
    "def count_non_feasible(indvs):\n",
    "    global f_worst\n",
    "    return feasible_check(indvs, f_worst).sum()\n",
    "\n",
    "def start_ga(toolbox, cxpb, mutpb, n=200, ngen=200, hof=None, ga_stats=None):\n",
    "    global f_worst, goptimum, is_min\n",
    "    f_worst = init_worst\n",
    "    goptimum = init_worst\n",
    "\n",
    "    pop = toolbox.population(n=n)\n",
    "    hof = tools.HallOfFame(10, similar=np.array_equal) if hof is None else hof\n",
    "    if ga_stats is not False:\n",
    "        ga_stats = tools.Statistics(lambda ind: ind.fitness.values)\n",
    "        ga_stats.register(\"avg\", np.mean)\n",
    "        ga_stats.register(\"std\", np.std)\n",
    "        if is_min:\n",
    "            ga_stats.register(\"max\", np.max)\n",
    "            ga_stats.register(\"min\", np.min)\n",
    "        else:\n",
    "            ga_stats.register(\"min\", np.min)\n",
    "            ga_stats.register(\"max\", np.max)\n",
    "        ga_stats.register(\"goptimum\", global_optimum)\n",
    "        ga_stats.register(\"ninfeasible\", count_non_feasible)\n",
    "    else: ga_stats = None\n",
    "\n",
    "    pop, log = algorithms.eaSimple(pop, toolbox, cxpb=cxpb, mutpb=mutpb, ngen=ngen, \n",
    "                                   stats=ga_stats, halloffame=hof, verbose=True)\n",
    "    return hof, log\n",
    "\n",
    "def set_environment(is_min):\n",
    "    global init_worst, mixing_operator, worst_check_operator\n",
    "    global optimum_check_operator, optimum_np_operator, feasible_check\n",
    "    if isinstance(is_min, tuple):\n",
    "        init_worst = -1e10*is_min\n",
    "    else: init_worst = 1e10 if is_min else -1e10\n",
    "    mixing_operator = operator.add if is_min else operator.sub\n",
    "    worst_check_operator = max if is_min else min\n",
    "    optimum_check_operator = min if is_min else max\n",
    "    optimum_np_operator = np.min if is_min else np.max\n",
    "    feasible_check = np.greater if is_min else np.less\n"
   ]
  },
  {
   "cell_type": "code",
   "execution_count": null,
   "metadata": {
    "scrolled": true
   },
   "outputs": [],
   "source": [
    "is_min = True\n",
    "set_environment(is_min)\n",
    "toolbox = create_toolbox(evaluate_total_risk, is_min=is_min, pl=.2, pu=.2, indpb=0.05)\n",
    "hof, log = start_ga(toolbox, n=200, ngen=500, cxpb=0.8, mutpb=0.2)\n",
    "best_risk = hof[0]"
   ]
  },
  {
   "cell_type": "code",
   "execution_count": 19,
   "metadata": {
    "collapsed": true
   },
   "outputs": [],
   "source": [
    "best_risk = hof[0]"
   ]
  },
  {
   "cell_type": "code",
   "execution_count": null,
   "metadata": {
    "scrolled": true
   },
   "outputs": [],
   "source": [
    "is_min = False\n",
    "set_environment(is_min)\n",
    "toolbox = create_toolbox(evaluate_terminal_wealth, is_min=is_min, pl=0.35, pu=0.25, indpb=0.05)\n",
    "hof, log = start_ga(toolbox, ngen=500, cxpb=0.8, mutpb=0.2)\n",
    "best_wealth = hof[0]"
   ]
  },
  {
   "cell_type": "code",
   "execution_count": 21,
   "metadata": {
    "collapsed": true
   },
   "outputs": [],
   "source": [
    "e_min, e_max = evaluate_terminal_wealth(best_risk)[0], best_wealth.fitness.values[0]"
   ]
  },
  {
   "cell_type": "code",
   "execution_count": 22,
   "metadata": {
    "collapsed": true
   },
   "outputs": [],
   "source": [
    "v_min, v_max = np.sqrt(best_risk.fitness.values[0]), np.sqrt(evaluate_total_risk(best_wealth)[0])"
   ]
  },
  {
   "cell_type": "code",
   "execution_count": 23,
   "metadata": {},
   "outputs": [
    {
     "data": {
      "text/plain": [
       "(1499343.9014776065,\n",
       " 3202094.4850515923,\n",
       " 0.014714626848098492,\n",
       " 0.068004953293388348)"
      ]
     },
     "execution_count": 23,
     "metadata": {},
     "output_type": "execute_result"
    }
   ],
   "source": [
    "e_min, e_max, v_min, v_max "
   ]
  },
  {
   "cell_type": "code",
   "execution_count": 29,
   "metadata": {
    "collapsed": true
   },
   "outputs": [],
   "source": [
    "e_mid = 2.5e6\n",
    "v_mid = 0.04\n",
    "theta_e = 50\n",
    "theta_v = 50"
   ]
  },
  {
   "cell_type": "code",
   "execution_count": 30,
   "metadata": {
    "collapsed": true
   },
   "outputs": [],
   "source": [
    "def wealth_satisfaction(w, theta_e, theta_v):\n",
    "    res = evaluate(w)\n",
    "    wealth = res[0][t-1]\n",
    "    risk = np.sqrt(res[2][t-1])\n",
    "    violent_values = np.maximum(res[4],0).sum()\n",
    "    wealth = (wealth-e_mid)/(e_max-e_min)\n",
    "    wealth = 1/(1+np.exp(-theta_e*wealth))\n",
    "    wealth = min(max(wealth, 0), 1)\n",
    "\n",
    "    risk = (risk-v_mid)/(v_min-v_max)\n",
    "    risk = 1/(1+np.exp(-theta_v*risk))\n",
    "    risk = min(max(risk, 0), 1)\n",
    "    \n",
    "    return min(risk, wealth), violent_values#, wealth, risk\n",
    "    \n",
    "    #     return res[0][t-1], np.maximum(res[4],0).sum()\n",
    "    #     return res[2].sum(), np.maximum(res[4],0).sum()\n"
   ]
  },
  {
   "cell_type": "code",
   "execution_count": 31,
   "metadata": {},
   "outputs": [
    {
     "name": "stdout",
     "output_type": "stream",
     "text": [
      "(1.7334033637470659e-13, 0.0)\n",
      "(3.8774942000899735e-12, 0.0)\n"
     ]
    }
   ],
   "source": [
    "print wealth_satisfaction(best_risk, theta_e, theta_v)\n",
    "print wealth_satisfaction(best_wealth, theta_e, theta_v)"
   ]
  },
  {
   "cell_type": "code",
   "execution_count": 32,
   "metadata": {
    "collapsed": true,
    "scrolled": true
   },
   "outputs": [],
   "source": [
    "def eval_fuzzy(theta_e, theta_v):\n",
    "    is_min = False\n",
    "    set_environment(is_min)\n",
    "    toolbox = create_toolbox(wealth_satisfaction, is_min=is_min, pl=0.3, pu=0.2, indpb=0.05, theta_e=theta_e, theta_v=theta_v)\n",
    "    hof, log = start_ga(toolbox, ngen=1000, cxpb=0.8, mutpb=0.2)\n",
    "    return hof, log\n"
   ]
  },
  {
   "cell_type": "code",
   "execution_count": null,
   "metadata": {},
   "outputs": [],
   "source": [
    "hof_exp, _  = eval_fuzzy(theta_e=10, theta_v=80)\n",
    "hof_var, _  = eval_fuzzy(theta_e=80, theta_v=10)\n",
    "hof_average, _  = eval_fuzzy(theta_e=40, theta_v=40)\n"
   ]
  },
  {
   "cell_type": "code",
   "execution_count": null,
   "metadata": {
    "collapsed": true
   },
   "outputs": [],
   "source": []
  },
  {
   "cell_type": "code",
   "execution_count": 35,
   "metadata": {
    "collapsed": true
   },
   "outputs": [],
   "source": [
    "def eval_wealth_risk(w):\n",
    "    res = evaluate(w)\n",
    "    wealth = res[0][t-1]\n",
    "    risk = np.sqrt(res[2][t-1])\n",
    "    violent_value = np.maximum(res[4],0).sum()\n",
    "    if violent_value<1e-12:\n",
    "        return wealth, risk\n",
    "    else:\n",
    "        return -1e10-violent_value, 1e10+violent_value\n",
    "    \n"
   ]
  },
  {
   "cell_type": "markdown",
   "metadata": {},
   "source": [
    "### Saving the solutions"
   ]
  },
  {
   "cell_type": "code",
   "execution_count": 36,
   "metadata": {
    "collapsed": true,
    "scrolled": true
   },
   "outputs": [],
   "source": [
    "def save_summary(w, filename = 'file.xls'):\n",
    "\n",
    "    res = evaluate(w)\n",
    "    df = pd.DataFrame(w, index=prices.index, columns=prices.columns)\n",
    "    df.to_excel('nlots_%s'%filename)\n",
    "    df = lot_size*df*prices\n",
    "    df['RiskFree'] = res[3]\n",
    "    df.loc['weights_0'] = res[6][0]\n",
    "    df.loc['weights_1'] = res[6][1]\n",
    "    df.loc['weights_2'] = res[6][2]\n",
    "    df['TerminalWealth'] = np.concatenate([res[0], res[0]])\n",
    "    df['TransactionCost'] = np.concatenate([res[1], res[1]])\n",
    "    df['Risk'] = np.concatenate([res[2], res[2]])\n",
    "    df['InitialWealth'] = df.sum(1) - df['TerminalWealth'] - df['Risk']\n",
    "    df.loc['staisfaction'] = wealth_satisfaction(w, theta_e, theta_v)[0]\n",
    "    df.loc['risk'] = np.sqrt(res[2].sum())\n",
    "    df.to_excel(filename)\n",
    "#     print zip(res[5], res[0], res[])\n",
    "    return res, df\n",
    "\n",
    "_ = save_summary(best_risk, 'min_risk_sol.xls')\n",
    "_ = save_summary(best_wealth, 'max_wealth_sol.xls')"
   ]
  },
  {
   "cell_type": "code",
   "execution_count": 37,
   "metadata": {
    "collapsed": true
   },
   "outputs": [],
   "source": [
    "theta_e, theta_v = 40, 40\n",
    "_ = save_summary(hof_average[0], 'best_40_40.xls')\n",
    "theta_e, theta_v = 10, 80\n",
    "_ = save_summary(hof_exp[0], 'best_10_80.xls')\n",
    "theta_e, theta_v = 80, 10\n",
    "_ = save_summary(hof_var[0], 'best_80_10.xls')"
   ]
  },
  {
   "cell_type": "markdown",
   "metadata": {},
   "source": [
    "### Generating Pareto Front for the problem"
   ]
  },
  {
   "cell_type": "code",
   "execution_count": 38,
   "metadata": {
    "collapsed": true
   },
   "outputs": [],
   "source": [
    "hof = tools.ParetoFront(np.array_equal)"
   ]
  },
  {
   "cell_type": "code",
   "execution_count": null,
   "metadata": {
    "collapsed": true,
    "scrolled": true
   },
   "outputs": [],
   "source": [
    "is_min = False\n",
    "set_environment(is_min)\n",
    "toolbox = create_toolbox(eval_wealth_risk, is_min=(1., -1.), pl=0.3, pu=0.2, indpb=0.05)\n",
    "toolbox.register(\"select\", tools.selNSGA2)\n",
    "toolbox.register(\"evaluate\", eval_wealth_risk)\n",
    "ga_stats = tools.Statistics(lambda ind: ind.fitness.values)\n",
    "ga_stats.register(\"avg\", np.mean, axis=0 )\n",
    "\n",
    "ga_stats.register(\"max\", np.max, axis=0)\n",
    "ga_stats.register(\"min\", np.min, axis=0)\n",
    "ga_stats.register(\"npoints\", lambda x: len(hof))\n",
    "np.set_printoptions(precision=3)\n",
    "for i in range(10):\n",
    "    pop = toolbox.population(n=200)\n",
    "    pop, log = algorithms.eaMuPlusLambda(pop, toolbox, mu=200, lambda_=200, ngen=500, cxpb=0.8, mutpb=0.2, halloffame=hof, stats=ga_stats)\n",
    "# hof, log = start_ga(toolbox, n=200, ngen=300, cxpb=0.8, mutpb=0.2, hof=hof, ga_stats=None)"
   ]
  },
  {
   "cell_type": "code",
   "execution_count": 40,
   "metadata": {
    "collapsed": true
   },
   "outputs": [],
   "source": [
    "terminal_wealth = [x.fitness.values[0] for x in hof.items]\n",
    "risk = [x.fitness.values[1] for x in hof.items]"
   ]
  },
  {
   "cell_type": "code",
   "execution_count": 41,
   "metadata": {
    "collapsed": true
   },
   "outputs": [],
   "source": [
    "df = pd.DataFrame([(tt,r) for tt,r in zip(terminal_wealth, risk)], columns=['TerminalWealth', 'Risk'])"
   ]
  },
  {
   "cell_type": "code",
   "execution_count": null,
   "metadata": {
    "collapsed": true
   },
   "outputs": [],
   "source": [
    "df.to_excel('optimal_frontier.xls')"
   ]
  },
  {
   "cell_type": "code",
   "execution_count": 43,
   "metadata": {},
   "outputs": [
    {
     "data": {
      "image/png": "[encoded data removed]",
      "text/plain": [
       "<matplotlib.figure.Figure at 0x7f4a29580a10>"
      ]
     },
     "metadata": {},
     "output_type": "display_data"
    }
   ],
   "source": [
    "plt.plot(risk, terminal_wealth)\n",
    "plt.show()"
   ]
  },
  {
   "cell_type": "code",
   "execution_count": null,
   "metadata": {
    "collapsed": true
   },
   "outputs": [],
   "source": [
    "start = 0.01\n",
    "core_start_quan = 0.4\n",
    "core_end_quan = 0.7\n",
    "end = 0.95"
   ]
  },
  {
   "cell_type": "code",
   "execution_count": null,
   "metadata": {
    "collapsed": true,
    "scrolled": true
   },
   "outputs": [],
   "source": [
    "index_id = 'HDFCBANK.NS'\n",
    "index = stats[0][index_id]\n",
    "plt.hist(rate_of_return[index_id], 20, normed=0)\n",
    "plt.plot([index.loc[start],index.loc[core_start_quan], index.loc[core_end_quan], index.loc[end]], [0,20,20,0], 'b')\n",
    "plt.show() # display(rate_of_return['MARUTI.BO']*100)"
   ]
  },
  {
   "cell_type": "code",
   "execution_count": null,
   "metadata": {
    "collapsed": true
   },
   "outputs": [],
   "source": []
  }
 ],
 "metadata": {
  "kernelspec": {
   "display_name": "Python 2",
   "language": "python",
   "name": "python2"
  },
  "language_info": {
   "codemirror_mode": {
    "name": "ipython",
    "version": 2
   },
   "file_extension": ".py",
   "mimetype": "text/x-python",
   "name": "python",
   "nbconvert_exporter": "python",
   "pygments_lexer": "ipython2",
   "version": "2.7.12"
  }
 },
 "nbformat": 4,
 "nbformat_minor": 2
}
